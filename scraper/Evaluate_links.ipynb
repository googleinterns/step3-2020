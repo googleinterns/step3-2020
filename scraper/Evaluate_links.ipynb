{
  "nbformat": 4,
  "nbformat_minor": 0,
  "metadata": {
    "colab": {
      "name": "Evaluate_links.ipynb",
      "provenance": [],
      "collapsed_sections": []
    },
    "kernelspec": {
      "name": "python3",
      "display_name": "Python 3"
    }
  },
  "cells": [
    {
      "cell_type": "code",
      "metadata": {
        "id": "UMbD-8RtQpQQ",
        "colab_type": "code",
        "colab": {}
      },
      "source": [
        "from google.colab import drive\n",
        "drive.mount('/content/drive')"
      ],
      "execution_count": null,
      "outputs": []
    },
    {
      "cell_type": "code",
      "metadata": {
        "id": "fWKsJwexQxRn",
        "colab_type": "code",
        "colab": {}
      },
      "source": [
        "import pandas as pd\n",
        "\n",
        "\n",
        "# Reads and process input data with Pandas Dataframe\n",
        "def read_data(filename):\n",
        "  fields = ['name', 'link']\n",
        "  data = pd.read_csv(filename, skipinitialspace=True, usecols=fields)\n",
        "  return data\n",
        "\n",
        "def evaluate(g4np, scraped):\n",
        "  scraped_i = 0\n",
        "  g4np_i = 0\n",
        "  correct = 0\n",
        "  while g4np_i < 9997:\n",
        "    g4np_row = g4np.iloc[g4np_i]\n",
        "    scraped_row = scraped.iloc[scraped_i]\n",
        "    while scraped_row['name'].lower() != g4np_row['name'].lower():\n",
        "      g4np_i += 1\n",
        "      g4np_row = g4np.iloc[g4np_i]\n",
        "    scraped_link = str(scraped_row['link'])\n",
        "    if scraped_link.find('www') != -1:\n",
        "      scraped_link = scraped_link.replace('www.', '')\n",
        "    if scraped_link in str(g4np_row['home_page']):\n",
        "      correct += 1\n",
        "    else:\n",
        "      print('name:', scraped_row['name'], 'scraped:', scraped_row['link'], 'g4np:', g4np_row['home_page'])\n",
        "    g4np_i += 1   \n",
        "    scraped_i += 1\n",
        "  return correct\n",
        "\n",
        "def main():\n",
        "  g4np_filename = '/content/drive/My Drive/Capstone/G4NP/raw_data/G4NP_links_0_10000.csv'\n",
        "  scraped_filename = '/content/drive/My Drive/processed_g4np_0_10000.csv'\n",
        "  g4np_data = pd.read_csv(g4np_filename, skipinitialspace=True)\n",
        "  scraped_data = read_data(scraped_filename)\n",
        "  count = evaluate(g4np_data, scraped_data)\n",
        "  print(count)\n"
      ],
      "execution_count": 5,
      "outputs": []
    },
    {
      "cell_type": "code",
      "metadata": {
        "id": "pwErkNYsR9i_",
        "colab_type": "code",
        "colab": {}
      },
      "source": [
        "main()"
      ],
      "execution_count": null,
      "outputs": []
    }
  ]
}